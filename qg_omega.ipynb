{
 "cells": [
  {
   "cell_type": "code",
   "execution_count": 1,
   "metadata": {},
   "outputs": [
    {
     "name": "stderr",
     "output_type": "stream",
     "text": [
      "C:\\Users\\Tony\\anaconda3\\lib\\site-packages\\paramiko\\transport.py:219: CryptographyDeprecationWarning: Blowfish has been deprecated\n",
      "  \"class\": algorithms.Blowfish,\n"
     ]
    }
   ],
   "source": [
    "import numpy as np\n",
    "import xarray as xr\n",
    "import matplotlib.pyplot as plt\n",
    "import matplotlib.colors as mcolors\n",
    "import pandas as pd\n",
    "import cartopy.crs as ccrs\n",
    "import cartopy.feature as cfeature\n",
    "from siphon.catalog import TDSCatalog\n",
    "import metpy.calc as mpcalc\n",
    "from metpy.units import units\n",
    "from scipy.ndimage import gaussian_filter"
   ]
  },
  {
   "cell_type": "code",
   "execution_count": 2,
   "metadata": {},
   "outputs": [],
   "source": [
    "def time_dim(ds, var_name):\n",
    "    possible_time_dims = ['time', 'time1', 'time2', 'time3']\n",
    "    time_dim = None\n",
    "    for dim in possible_time_dims:\n",
    "        if dim in ds[var_name].dims:\n",
    "            time_dim = dim\n",
    "            break\n",
    "    if time_dim is None:\n",
    "        raise ValueError('Could not find the time dimension')\n",
    "    return time_dim\n",
    "\n",
    "def find_press_dim(ds, var_name):\n",
    "    possible_iso_dims = ['isobaric', 'isobaric1', 'isobaric2', 'isobaric3']\n",
    "    iso_dim = None\n",
    "    for dim in possible_iso_dims:\n",
    "        if dim in ds[var_name].dims:\n",
    "            iso_dim = dim\n",
    "            break\n",
    "    if iso_dim is None:\n",
    "        raise ValueError('Could not find the iso dimension')\n",
    "    return iso_dim\n",
    "\n",
    "def pull_data(directions):\n",
    "    tds_gfs = TDSCatalog('https://thredds.ucar.edu/thredds/catalog/grib/NCEP/GFS/Global_0p25deg/latest.html')\n",
    "    gfs_ds = tds_gfs.datasets[0]\n",
    "    ds = xr.open_dataset(gfs_ds.access_urls['OPENDAP'])\n",
    "    ds_sliced = ds.sel(lat=slice(directions['North'], directions['South']), lon=slice(directions['West'], directions['East']))\n",
    "    z = ds['Geopotential_height_isobaric'].sel(isobaric=slice(50000, 70000))\n",
    "    z_700 = ds['Geopotential_height_isobaric'].sel(isobaric=70000)\n",
    "    temp = ds['Temperature_isobaric'].sel(isobaric=slice(50000, 70000))\n",
    "    t_700 = ds['Temperature_isobaric'].sel(isobaric=70000)\n",
    "    u = ds_sliced['u-component_of_wind_isobaric'].sel(isobaric=slice(50000, 100000))\n",
    "    v = ds_sliced['v-component_of_wind_isobaric'].sel(isobaric=slice(50000, 100000))\n",
    "    time = time_dim(ds, 'Geopotential_height_isobaric')\n",
    "    iso_dim = find_press_dim(ds, 'Geopotential_height_isobaric')\n",
    "    pressure_levels = z['isobaric'].values[::-1]\n",
    "    return z, z_700, temp, t_700, time, iso_dim, pressure_levels, u, v\n",
    "\n",
    "def calculate_qg(z, t_700, directions, time, iso_dim, pressure_levels, u, v):\n",
    "    for i in range(0, 1):  # Loop over all times\n",
    "        z_i = z.isel(**{time: i})\n",
    "        u_i = u.isel(**{time: i})\n",
    "        v_i = v.isel(**{time: i})\n",
    "        temp_i = t_700.isel(**{time: i})\n",
    "\n",
    "        # Select the geopotential heights at the 500 and 700 hPa levels and calculate the geostrophic wind\n",
    "        z_500 = z_i.sel(isobaric=50000)\n",
    "        z_700 = z_i.sel(isobaric=70000)\n",
    "        u_g_500, v_g_500 = mpcalc.geostrophic_wind(z_500)\n",
    "        V_g_500 = mpcalc.wind_speed(u_g_500, v_g_500)\n",
    "        u_g_700, v_g_700 = mpcalc.geostrophic_wind(z_700)\n",
    "        V_g_700 = mpcalc.wind_speed(u_g_700, v_g_700)\n",
    "\n",
    "        # Calculate absolute vorticity and select the 500 and 700 hPa levels\n",
    "        absolute_vorticity = mpcalc.absolute_vorticity(u_i, v_i)\n",
    "        absolute_vorticity_700 = absolute_vorticity.sel(isobaric=70000)\n",
    "        absolute_vorticity_500 = absolute_vorticity.sel(isobaric=50000)\n",
    "\n",
    "        # Calculate the gradient of the absolute vorticity\n",
    "        absolute_vorticity_gradient_500 = np.gradient(absolute_vorticity_500, axis=(-2, -1))\n",
    "        absolute_vorticity_gradient_700 = np.gradient(absolute_vorticity_700, axis=(-2, -1))\n",
    "\n",
    "        # Calculate the advection of absolute vorticity\n",
    "        absolute_vorticity_advection_500 = -(V_g_500 * absolute_vorticity_gradient_500[0] + V_g_500 * absolute_vorticity_gradient_500[1])\n",
    "        absolute_vorticity_advection_700 = -(V_g_700 * absolute_vorticity_gradient_700[0] + V_g_700 * absolute_vorticity_gradient_700[1])\n",
    "\n",
    "        # Calculate the differential vorticity advection\n",
    "        differential = (absolute_vorticity_advection_500 - absolute_vorticity_advection_700) / (z_500 - z_700)\n",
    "        #pressure_gradient_advection = np.gradient(absolute_vorticity_advection_500, pressure_levels, axis=0)\n",
    "        print(differential)\n",
    "\n"
   ]
  },
  {
   "cell_type": "code",
   "execution_count": 3,
   "metadata": {},
   "outputs": [
    {
     "name": "stderr",
     "output_type": "stream",
     "text": [
      "C:\\Users\\Tony\\anaconda3\\lib\\site-packages\\siphon\\catalog.py:292: UserWarning: URL https://thredds.ucar.edu/thredds/catalog/grib/NCEP/GFS/Global_0p25deg/latest.html returned HTML. Changing to: https://thredds.ucar.edu/thredds/catalog/grib/NCEP/GFS/Global_0p25deg/latest.xml\n",
      "  warnings.warn('URL {} returned HTML. Changing to: {}'.format(self.catalog_url,\n",
      "C:\\Users\\Tony\\anaconda3\\lib\\site-packages\\pint\\facets\\plain\\quantity.py:998: RuntimeWarning: divide by zero encountered in divide\n",
      "  magnitude = magnitude_op(new_self._magnitude, other._magnitude)\n",
      "C:\\Users\\Tony\\anaconda3\\lib\\site-packages\\pint\\facets\\plain\\quantity.py:998: RuntimeWarning: invalid value encountered in multiply\n",
      "  magnitude = magnitude_op(new_self._magnitude, other._magnitude)\n",
      "C:\\Users\\Tony\\anaconda3\\lib\\site-packages\\pint\\facets\\plain\\quantity.py:998: RuntimeWarning: divide by zero encountered in divide\n",
      "  magnitude = magnitude_op(new_self._magnitude, other._magnitude)\n",
      "C:\\Users\\Tony\\anaconda3\\lib\\site-packages\\pint\\facets\\plain\\quantity.py:998: RuntimeWarning: invalid value encountered in multiply\n",
      "  magnitude = magnitude_op(new_self._magnitude, other._magnitude)\n"
     ]
    },
    {
     "ename": "ValueError",
     "evalue": "operands could not be broadcast together with shapes (721,1440) (121,121) ",
     "output_type": "error",
     "traceback": [
      "\u001b[1;31m---------------------------------------------------------------------------\u001b[0m",
      "\u001b[1;31mValueError\u001b[0m                                Traceback (most recent call last)",
      "Cell \u001b[1;32mIn[3], line 7\u001b[0m\n\u001b[0;32m      1\u001b[0m directions \u001b[38;5;241m=\u001b[39m {\u001b[38;5;124m'\u001b[39m\u001b[38;5;124mNorth\u001b[39m\u001b[38;5;124m'\u001b[39m: \u001b[38;5;241m50\u001b[39m, \n\u001b[0;32m      2\u001b[0m               \u001b[38;5;124m'\u001b[39m\u001b[38;5;124mEast\u001b[39m\u001b[38;5;124m'\u001b[39m: \u001b[38;5;241m250\u001b[39m, \n\u001b[0;32m      3\u001b[0m               \u001b[38;5;124m'\u001b[39m\u001b[38;5;124mSouth\u001b[39m\u001b[38;5;124m'\u001b[39m: \u001b[38;5;241m20\u001b[39m, \n\u001b[0;32m      4\u001b[0m               \u001b[38;5;124m'\u001b[39m\u001b[38;5;124mWest\u001b[39m\u001b[38;5;124m'\u001b[39m: \u001b[38;5;241m220\u001b[39m}\n\u001b[0;32m      6\u001b[0m (z, z_700, temp, t_700, time, iso_dim, pressure_levels, u, v) \u001b[38;5;241m=\u001b[39m pull_data(directions)\n\u001b[1;32m----> 7\u001b[0m \u001b[43mcalculate_qg\u001b[49m\u001b[43m(\u001b[49m\u001b[43mz\u001b[49m\u001b[43m,\u001b[49m\u001b[43m \u001b[49m\u001b[43mt_700\u001b[49m\u001b[43m,\u001b[49m\u001b[43m \u001b[49m\u001b[43mdirections\u001b[49m\u001b[43m,\u001b[49m\u001b[43m \u001b[49m\u001b[43mtime\u001b[49m\u001b[43m,\u001b[49m\u001b[43m \u001b[49m\u001b[43miso_dim\u001b[49m\u001b[43m,\u001b[49m\u001b[43m \u001b[49m\u001b[43mpressure_levels\u001b[49m\u001b[43m,\u001b[49m\u001b[43m \u001b[49m\u001b[43mu\u001b[49m\u001b[43m,\u001b[49m\u001b[43m \u001b[49m\u001b[43mv\u001b[49m\u001b[43m)\u001b[49m\n",
      "Cell \u001b[1;32mIn[2], line 64\u001b[0m, in \u001b[0;36mcalculate_qg\u001b[1;34m(z, t_700, directions, time, iso_dim, pressure_levels, u, v)\u001b[0m\n\u001b[0;32m     61\u001b[0m absolute_vorticity_gradient_700 \u001b[38;5;241m=\u001b[39m np\u001b[38;5;241m.\u001b[39mgradient(absolute_vorticity_700, axis\u001b[38;5;241m=\u001b[39m(\u001b[38;5;241m-\u001b[39m\u001b[38;5;241m2\u001b[39m, \u001b[38;5;241m-\u001b[39m\u001b[38;5;241m1\u001b[39m))\n\u001b[0;32m     63\u001b[0m \u001b[38;5;66;03m# Calculate the advection of absolute vorticity\u001b[39;00m\n\u001b[1;32m---> 64\u001b[0m absolute_vorticity_advection_500 \u001b[38;5;241m=\u001b[39m \u001b[38;5;241m-\u001b[39m(\u001b[43mV_g_500\u001b[49m\u001b[43m \u001b[49m\u001b[38;5;241;43m*\u001b[39;49m\u001b[43m \u001b[49m\u001b[43mabsolute_vorticity_gradient_500\u001b[49m\u001b[43m[\u001b[49m\u001b[38;5;241;43m0\u001b[39;49m\u001b[43m]\u001b[49m \u001b[38;5;241m+\u001b[39m V_g_500 \u001b[38;5;241m*\u001b[39m absolute_vorticity_gradient_500[\u001b[38;5;241m1\u001b[39m])\n\u001b[0;32m     65\u001b[0m absolute_vorticity_advection_700 \u001b[38;5;241m=\u001b[39m \u001b[38;5;241m-\u001b[39m(V_g_700 \u001b[38;5;241m*\u001b[39m absolute_vorticity_gradient_700[\u001b[38;5;241m0\u001b[39m] \u001b[38;5;241m+\u001b[39m V_g_700 \u001b[38;5;241m*\u001b[39m absolute_vorticity_gradient_700[\u001b[38;5;241m1\u001b[39m])\n\u001b[0;32m     67\u001b[0m \u001b[38;5;66;03m# Calculate the differential vorticity advection\u001b[39;00m\n",
      "File \u001b[1;32m~\\anaconda3\\lib\\site-packages\\xarray\\core\\_typed_ops.py:228\u001b[0m, in \u001b[0;36mDataArrayOpsMixin.__mul__\u001b[1;34m(self, other)\u001b[0m\n\u001b[0;32m    227\u001b[0m \u001b[38;5;28;01mdef\u001b[39;00m \u001b[38;5;21m__mul__\u001b[39m(\u001b[38;5;28mself\u001b[39m, other):\n\u001b[1;32m--> 228\u001b[0m     \u001b[38;5;28;01mreturn\u001b[39;00m \u001b[38;5;28;43mself\u001b[39;49m\u001b[38;5;241;43m.\u001b[39;49m\u001b[43m_binary_op\u001b[49m\u001b[43m(\u001b[49m\u001b[43mother\u001b[49m\u001b[43m,\u001b[49m\u001b[43m \u001b[49m\u001b[43moperator\u001b[49m\u001b[38;5;241;43m.\u001b[39;49m\u001b[43mmul\u001b[49m\u001b[43m)\u001b[49m\n",
      "File \u001b[1;32m~\\anaconda3\\lib\\site-packages\\xarray\\core\\dataarray.py:4620\u001b[0m, in \u001b[0;36mDataArray._binary_op\u001b[1;34m(self, other, f, reflexive)\u001b[0m\n\u001b[0;32m   4616\u001b[0m other_variable \u001b[38;5;241m=\u001b[39m \u001b[38;5;28mgetattr\u001b[39m(other, \u001b[38;5;124m\"\u001b[39m\u001b[38;5;124mvariable\u001b[39m\u001b[38;5;124m\"\u001b[39m, other)\n\u001b[0;32m   4617\u001b[0m other_coords \u001b[38;5;241m=\u001b[39m \u001b[38;5;28mgetattr\u001b[39m(other, \u001b[38;5;124m\"\u001b[39m\u001b[38;5;124mcoords\u001b[39m\u001b[38;5;124m\"\u001b[39m, \u001b[38;5;28;01mNone\u001b[39;00m)\n\u001b[0;32m   4619\u001b[0m variable \u001b[38;5;241m=\u001b[39m (\n\u001b[1;32m-> 4620\u001b[0m     \u001b[43mf\u001b[49m\u001b[43m(\u001b[49m\u001b[38;5;28;43mself\u001b[39;49m\u001b[38;5;241;43m.\u001b[39;49m\u001b[43mvariable\u001b[49m\u001b[43m,\u001b[49m\u001b[43m \u001b[49m\u001b[43mother_variable\u001b[49m\u001b[43m)\u001b[49m\n\u001b[0;32m   4621\u001b[0m     \u001b[38;5;28;01mif\u001b[39;00m \u001b[38;5;129;01mnot\u001b[39;00m reflexive\n\u001b[0;32m   4622\u001b[0m     \u001b[38;5;28;01melse\u001b[39;00m f(other_variable, \u001b[38;5;28mself\u001b[39m\u001b[38;5;241m.\u001b[39mvariable)\n\u001b[0;32m   4623\u001b[0m )\n\u001b[0;32m   4624\u001b[0m coords, indexes \u001b[38;5;241m=\u001b[39m \u001b[38;5;28mself\u001b[39m\u001b[38;5;241m.\u001b[39mcoords\u001b[38;5;241m.\u001b[39m_merge_raw(other_coords, reflexive)\n\u001b[0;32m   4625\u001b[0m name \u001b[38;5;241m=\u001b[39m \u001b[38;5;28mself\u001b[39m\u001b[38;5;241m.\u001b[39m_result_name(other)\n",
      "File \u001b[1;32m~\\anaconda3\\lib\\site-packages\\xarray\\core\\_typed_ops.py:434\u001b[0m, in \u001b[0;36mVariableOpsMixin.__mul__\u001b[1;34m(self, other)\u001b[0m\n\u001b[0;32m    433\u001b[0m \u001b[38;5;28;01mdef\u001b[39;00m \u001b[38;5;21m__mul__\u001b[39m(\u001b[38;5;28mself\u001b[39m, other):\n\u001b[1;32m--> 434\u001b[0m     \u001b[38;5;28;01mreturn\u001b[39;00m \u001b[38;5;28;43mself\u001b[39;49m\u001b[38;5;241;43m.\u001b[39;49m\u001b[43m_binary_op\u001b[49m\u001b[43m(\u001b[49m\u001b[43mother\u001b[49m\u001b[43m,\u001b[49m\u001b[43m \u001b[49m\u001b[43moperator\u001b[49m\u001b[38;5;241;43m.\u001b[39;49m\u001b[43mmul\u001b[49m\u001b[43m)\u001b[49m\n",
      "File \u001b[1;32m~\\anaconda3\\lib\\site-packages\\xarray\\core\\variable.py:2705\u001b[0m, in \u001b[0;36mVariable._binary_op\u001b[1;34m(self, other, f, reflexive)\u001b[0m\n\u001b[0;32m   2702\u001b[0m attrs \u001b[38;5;241m=\u001b[39m \u001b[38;5;28mself\u001b[39m\u001b[38;5;241m.\u001b[39m_attrs \u001b[38;5;28;01mif\u001b[39;00m keep_attrs \u001b[38;5;28;01melse\u001b[39;00m \u001b[38;5;28;01mNone\u001b[39;00m\n\u001b[0;32m   2703\u001b[0m \u001b[38;5;28;01mwith\u001b[39;00m np\u001b[38;5;241m.\u001b[39merrstate(\u001b[38;5;28mall\u001b[39m\u001b[38;5;241m=\u001b[39m\u001b[38;5;124m\"\u001b[39m\u001b[38;5;124mignore\u001b[39m\u001b[38;5;124m\"\u001b[39m):\n\u001b[0;32m   2704\u001b[0m     new_data \u001b[38;5;241m=\u001b[39m (\n\u001b[1;32m-> 2705\u001b[0m         \u001b[43mf\u001b[49m\u001b[43m(\u001b[49m\u001b[43mself_data\u001b[49m\u001b[43m,\u001b[49m\u001b[43m \u001b[49m\u001b[43mother_data\u001b[49m\u001b[43m)\u001b[49m \u001b[38;5;28;01mif\u001b[39;00m \u001b[38;5;129;01mnot\u001b[39;00m reflexive \u001b[38;5;28;01melse\u001b[39;00m f(other_data, self_data)\n\u001b[0;32m   2706\u001b[0m     )\n\u001b[0;32m   2707\u001b[0m result \u001b[38;5;241m=\u001b[39m Variable(dims, new_data, attrs\u001b[38;5;241m=\u001b[39mattrs)\n\u001b[0;32m   2708\u001b[0m \u001b[38;5;28;01mreturn\u001b[39;00m result\n",
      "File \u001b[1;32m~\\anaconda3\\lib\\site-packages\\pint\\facets\\plain\\quantity.py:1010\u001b[0m, in \u001b[0;36mPlainQuantity.__mul__\u001b[1;34m(self, other)\u001b[0m\n\u001b[0;32m   1009\u001b[0m \u001b[38;5;28;01mdef\u001b[39;00m \u001b[38;5;21m__mul__\u001b[39m(\u001b[38;5;28mself\u001b[39m, other):\n\u001b[1;32m-> 1010\u001b[0m     \u001b[38;5;28;01mreturn\u001b[39;00m \u001b[38;5;28;43mself\u001b[39;49m\u001b[38;5;241;43m.\u001b[39;49m\u001b[43m_mul_div\u001b[49m\u001b[43m(\u001b[49m\u001b[43mother\u001b[49m\u001b[43m,\u001b[49m\u001b[43m \u001b[49m\u001b[43moperator\u001b[49m\u001b[38;5;241;43m.\u001b[39;49m\u001b[43mmul\u001b[49m\u001b[43m)\u001b[49m\n",
      "File \u001b[1;32m~\\anaconda3\\lib\\site-packages\\pint\\facets\\plain\\quantity.py:103\u001b[0m, in \u001b[0;36mcheck_implemented.<locals>.wrapped\u001b[1;34m(self, *args, **kwargs)\u001b[0m\n\u001b[0;32m    101\u001b[0m \u001b[38;5;28;01melif\u001b[39;00m \u001b[38;5;28misinstance\u001b[39m(other, \u001b[38;5;28mlist\u001b[39m) \u001b[38;5;129;01mand\u001b[39;00m other \u001b[38;5;129;01mand\u001b[39;00m \u001b[38;5;28misinstance\u001b[39m(other[\u001b[38;5;241m0\u001b[39m], \u001b[38;5;28mtype\u001b[39m(\u001b[38;5;28mself\u001b[39m)):\n\u001b[0;32m    102\u001b[0m     \u001b[38;5;28;01mreturn\u001b[39;00m \u001b[38;5;28mNotImplemented\u001b[39m\n\u001b[1;32m--> 103\u001b[0m \u001b[38;5;28;01mreturn\u001b[39;00m f(\u001b[38;5;28mself\u001b[39m, \u001b[38;5;241m*\u001b[39margs, \u001b[38;5;241m*\u001b[39m\u001b[38;5;241m*\u001b[39mkwargs)\n",
      "File \u001b[1;32m~\\anaconda3\\lib\\site-packages\\pint\\facets\\plain\\quantity.py:77\u001b[0m, in \u001b[0;36mireduce_dimensions.<locals>.wrapped\u001b[1;34m(self, *args, **kwargs)\u001b[0m\n\u001b[0;32m     76\u001b[0m \u001b[38;5;28;01mdef\u001b[39;00m \u001b[38;5;21mwrapped\u001b[39m(\u001b[38;5;28mself\u001b[39m, \u001b[38;5;241m*\u001b[39margs, \u001b[38;5;241m*\u001b[39m\u001b[38;5;241m*\u001b[39mkwargs):\n\u001b[1;32m---> 77\u001b[0m     result \u001b[38;5;241m=\u001b[39m f(\u001b[38;5;28mself\u001b[39m, \u001b[38;5;241m*\u001b[39margs, \u001b[38;5;241m*\u001b[39m\u001b[38;5;241m*\u001b[39mkwargs)\n\u001b[0;32m     78\u001b[0m     \u001b[38;5;28;01mtry\u001b[39;00m:\n\u001b[0;32m     79\u001b[0m         \u001b[38;5;28;01mif\u001b[39;00m result\u001b[38;5;241m.\u001b[39m_REGISTRY\u001b[38;5;241m.\u001b[39mautoconvert_to_preferred:\n",
      "File \u001b[1;32m~\\anaconda3\\lib\\site-packages\\pint\\facets\\plain\\quantity.py:976\u001b[0m, in \u001b[0;36mPlainQuantity._mul_div\u001b[1;34m(self, other, magnitude_op, units_op)\u001b[0m\n\u001b[0;32m    973\u001b[0m \u001b[38;5;28;01mexcept\u001b[39;00m \u001b[38;5;167;01mTypeError\u001b[39;00m:\n\u001b[0;32m    974\u001b[0m     \u001b[38;5;28;01mreturn\u001b[39;00m \u001b[38;5;28mNotImplemented\u001b[39m\n\u001b[1;32m--> 976\u001b[0m magnitude \u001b[38;5;241m=\u001b[39m \u001b[43mmagnitude_op\u001b[49m\u001b[43m(\u001b[49m\u001b[38;5;28;43mself\u001b[39;49m\u001b[38;5;241;43m.\u001b[39;49m\u001b[43m_magnitude\u001b[49m\u001b[43m,\u001b[49m\u001b[43m \u001b[49m\u001b[43mother_magnitude\u001b[49m\u001b[43m)\u001b[49m\n\u001b[0;32m    977\u001b[0m units \u001b[38;5;241m=\u001b[39m units_op(\u001b[38;5;28mself\u001b[39m\u001b[38;5;241m.\u001b[39m_units, \u001b[38;5;28mself\u001b[39m\u001b[38;5;241m.\u001b[39mUnitsContainer())\n\u001b[0;32m    979\u001b[0m \u001b[38;5;28;01mreturn\u001b[39;00m \u001b[38;5;28mself\u001b[39m\u001b[38;5;241m.\u001b[39m\u001b[38;5;18m__class__\u001b[39m(magnitude, units)\n",
      "\u001b[1;31mValueError\u001b[0m: operands could not be broadcast together with shapes (721,1440) (121,121) "
     ]
    }
   ],
   "source": [
    "directions = {'North': 50, \n",
    "              'East': 250, \n",
    "              'South': 20, \n",
    "              'West': 220}\n",
    "\n",
    "(z, z_700, temp, t_700, time, iso_dim, pressure_levels, u, v) = pull_data(directions)\n",
    "calculate_qg(z, t_700, directions, time, iso_dim, pressure_levels, u, v)"
   ]
  }
 ],
 "metadata": {
  "kernelspec": {
   "display_name": "base",
   "language": "python",
   "name": "python3"
  },
  "language_info": {
   "codemirror_mode": {
    "name": "ipython",
    "version": 3
   },
   "file_extension": ".py",
   "mimetype": "text/x-python",
   "name": "python",
   "nbconvert_exporter": "python",
   "pygments_lexer": "ipython3",
   "version": "3.9.18"
  }
 },
 "nbformat": 4,
 "nbformat_minor": 2
}
